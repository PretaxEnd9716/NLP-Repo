{
 "cells": [
  {
   "cell_type": "markdown",
   "metadata": {},
   "source": [
    "# Author Attribution\n",
    "Joshua Durana rcd180001"
   ]
  },
  {
   "cell_type": "code",
   "execution_count": 1,
   "metadata": {},
   "outputs": [],
   "source": [
    "import pandas as pd\n",
    "\n",
    "import sklearn as sk\n",
    "from sklearn.model_selection import train_test_split\n",
    "from sklearn.feature_extraction.text import TfidfVectorizer, CountVectorizer\n",
    "from sklearn.naive_bayes import MultinomialNB\n",
    "from sklearn.metrics import classification_report, confusion_matrix\n",
    "\n",
    "import nltk\n",
    "from nltk.corpus import stopwords"
   ]
  },
  {
   "cell_type": "markdown",
   "metadata": {},
   "source": [
    "## Load Data"
   ]
  },
  {
   "cell_type": "code",
   "execution_count": 2,
   "metadata": {},
   "outputs": [
    {
     "name": "stdout",
     "output_type": "stream",
     "text": [
      "     author                                               text\n",
      "0  HAMILTON  FEDERALIST. No. 1 General Introduction For the...\n",
      "1       JAY  FEDERALIST No. 2 Concerning Dangers from Forei...\n",
      "2       JAY  FEDERALIST No. 3 The Same Subject Continued (C...\n",
      "3       JAY  FEDERALIST No. 4 The Same Subject Continued (C...\n",
      "4       JAY  FEDERALIST No. 5 The Same Subject Continued (C...\n",
      "author\n",
      "HAMILTON                49\n",
      "HAMILTON AND MADISON     3\n",
      "HAMILTON OR MADISON     11\n",
      "JAY                      5\n",
      "MADISON                 15\n",
      "dtype: int64\n"
     ]
    }
   ],
   "source": [
    "#Load CSV\n",
    "federalistCSV = pd.read_csv('Data/federalist.csv')\n",
    "\n",
    "#Set Author to Categorical\n",
    "federalistCSV.author = federalistCSV.author.astype('category')\n",
    "\n",
    "#Print Head\n",
    "print(federalistCSV.head())\n",
    "\n",
    "#Number of rows for each author\n",
    "print(federalistCSV.groupby(['author']).size())"
   ]
  },
  {
   "cell_type": "markdown",
   "metadata": {},
   "source": [
    "## Divide to Train and Test"
   ]
  },
  {
   "cell_type": "code",
   "execution_count": 3,
   "metadata": {},
   "outputs": [
    {
     "name": "stdout",
     "output_type": "stream",
     "text": [
      "Train Dimensions: (66,)\n",
      "Test Dimensions: (17,)\n"
     ]
    }
   ],
   "source": [
    "#Obtain author and text columns\n",
    "authors = federalistCSV.author\n",
    "fedText = federalistCSV.text\n",
    "\n",
    "#Divide to test and train\n",
    "authorsTrain, authorsTest, textTrain, textTest = train_test_split(authors, fedText, test_size = .2, train_size = .8, random_state=1234)\n",
    "\n",
    "#Print Dimensions\n",
    "print(\"Train Dimensions:\", textTrain.shape)\n",
    "print(\"Test Dimensions:\", textTest.shape)"
   ]
  },
  {
   "cell_type": "markdown",
   "metadata": {},
   "source": [
    "## Process Text"
   ]
  },
  {
   "cell_type": "code",
   "execution_count": 12,
   "metadata": {},
   "outputs": [
    {
     "name": "stdout",
     "output_type": "stream",
     "text": [
      "Train Shape:  (66, 7876)\n",
      "Test Shape:  (17, 7876)\n"
     ]
    }
   ],
   "source": [
    "#Create Vectorizer\n",
    "vectorizer = TfidfVectorizer(stop_words = set(stopwords.words('english')))\n",
    "\n",
    "#Remove Stopwords and Transform Train\n",
    "textTrainV = vectorizer.fit_transform(textTrain)\n",
    "textTestV = vectorizer.transform(textTest)\n",
    "\n",
    "\n",
    "#Shape\n",
    "print(\"Train Shape: \", textTrainV.shape)\n",
    "print(\"Test Shape: \", textTestV.shape)\n"
   ]
  },
  {
   "cell_type": "markdown",
   "metadata": {},
   "source": [
    "## Bernoulli Naive Bayes"
   ]
  },
  {
   "cell_type": "code",
   "execution_count": 13,
   "metadata": {},
   "outputs": [
    {
     "name": "stdout",
     "output_type": "stream",
     "text": [
      "                     precision    recall  f1-score   support\n",
      "\n",
      "           HAMILTON       0.59      1.00      0.74        10\n",
      "HAMILTON OR MADISON       0.00      0.00      0.00         3\n",
      "                JAY       0.00      0.00      0.00         2\n",
      "            MADISON       0.00      0.00      0.00         2\n",
      "\n",
      "           accuracy                           0.59        17\n",
      "          macro avg       0.15      0.25      0.19        17\n",
      "       weighted avg       0.35      0.59      0.44        17\n",
      "\n",
      "[[10  0  0  0]\n",
      " [ 3  0  0  0]\n",
      " [ 2  0  0  0]\n",
      " [ 2  0  0  0]]\n"
     ]
    },
    {
     "name": "stderr",
     "output_type": "stream",
     "text": [
      "/home/pretaxend/.local/lib/python3.8/site-packages/sklearn/metrics/_classification.py:1334: UndefinedMetricWarning: Precision and F-score are ill-defined and being set to 0.0 in labels with no predicted samples. Use `zero_division` parameter to control this behavior.\n",
      "  _warn_prf(average, modifier, msg_start, len(result))\n",
      "/home/pretaxend/.local/lib/python3.8/site-packages/sklearn/metrics/_classification.py:1334: UndefinedMetricWarning: Precision and F-score are ill-defined and being set to 0.0 in labels with no predicted samples. Use `zero_division` parameter to control this behavior.\n",
      "  _warn_prf(average, modifier, msg_start, len(result))\n",
      "/home/pretaxend/.local/lib/python3.8/site-packages/sklearn/metrics/_classification.py:1334: UndefinedMetricWarning: Precision and F-score are ill-defined and being set to 0.0 in labels with no predicted samples. Use `zero_division` parameter to control this behavior.\n",
      "  _warn_prf(average, modifier, msg_start, len(result))\n"
     ]
    }
   ],
   "source": [
    "#Create Model\n",
    "fedNN = MultinomialNB()\n",
    "fedNN.fit(textTrainV, authorsTrain)\n",
    "\n",
    "#Test Model\n",
    "fedNNPredict = fedNN.predict(textTestV)\n",
    "\n",
    "#Metrics \n",
    "print(classification_report(authorsTest, fedNNPredict))\n",
    "\n",
    "#Confusion Matrix\n",
    "print(confusion_matrix(authorsTest, fedNNPredict))"
   ]
  },
  {
   "cell_type": "markdown",
   "metadata": {},
   "source": [
    "## Edit Training and Test Vectors\n"
   ]
  },
  {
   "cell_type": "code",
   "execution_count": 40,
   "metadata": {},
   "outputs": [
    {
     "name": "stdout",
     "output_type": "stream",
     "text": [
      "Train Shape:  (66, 1000)\n",
      "Test Shape:  (17, 1000)\n"
     ]
    }
   ],
   "source": [
    "#Edit Vectorizer\n",
    "vectorizer = TfidfVectorizer(stop_words = set(stopwords.words('english')), max_features = 1000, ngram_range = (1,2))\n",
    "\n",
    "#Vectorize Text\n",
    "textTrainMF = vectorizer.fit_transform(textTrain)\n",
    "textTestMF = vectorizer.transform(textTest)\n",
    "\n",
    "#Shape\n",
    "print(\"Train Shape: \", textTrainMF.shape)\n",
    "print(\"Test Shape: \", textTestMF.shape)"
   ]
  },
  {
   "cell_type": "markdown",
   "metadata": {},
   "source": [
    "## Naive Bayes"
   ]
  },
  {
   "cell_type": "code",
   "execution_count": 37,
   "metadata": {},
   "outputs": [
    {
     "name": "stdout",
     "output_type": "stream",
     "text": [
      "                     precision    recall  f1-score   support\n",
      "\n",
      "           HAMILTON       0.59      1.00      0.74        10\n",
      "HAMILTON OR MADISON       0.00      0.00      0.00         3\n",
      "                JAY       0.00      0.00      0.00         2\n",
      "            MADISON       0.00      0.00      0.00         2\n",
      "\n",
      "           accuracy                           0.59        17\n",
      "          macro avg       0.15      0.25      0.19        17\n",
      "       weighted avg       0.35      0.59      0.44        17\n",
      "\n"
     ]
    },
    {
     "name": "stderr",
     "output_type": "stream",
     "text": [
      "/home/pretaxend/.local/lib/python3.8/site-packages/sklearn/metrics/_classification.py:1334: UndefinedMetricWarning: Precision and F-score are ill-defined and being set to 0.0 in labels with no predicted samples. Use `zero_division` parameter to control this behavior.\n",
      "  _warn_prf(average, modifier, msg_start, len(result))\n",
      "/home/pretaxend/.local/lib/python3.8/site-packages/sklearn/metrics/_classification.py:1334: UndefinedMetricWarning: Precision and F-score are ill-defined and being set to 0.0 in labels with no predicted samples. Use `zero_division` parameter to control this behavior.\n",
      "  _warn_prf(average, modifier, msg_start, len(result))\n",
      "/home/pretaxend/.local/lib/python3.8/site-packages/sklearn/metrics/_classification.py:1334: UndefinedMetricWarning: Precision and F-score are ill-defined and being set to 0.0 in labels with no predicted samples. Use `zero_division` parameter to control this behavior.\n",
      "  _warn_prf(average, modifier, msg_start, len(result))\n"
     ]
    }
   ],
   "source": [
    "#Create Model\n",
    "fedNN.fit(textTrainMF, authorsTrain)\n",
    "\n",
    "#Predict\n",
    "fedNNPredict = fedNN.predict(textTestMF)\n",
    "\n",
    "#Metrics \n",
    "print(classification_report(authorsTest, fedNNPredict))"
   ]
  }
 ],
 "metadata": {
  "kernelspec": {
   "display_name": "Python 3.8.10 64-bit",
   "language": "python",
   "name": "python3"
  },
  "language_info": {
   "codemirror_mode": {
    "name": "ipython",
    "version": 3
   },
   "file_extension": ".py",
   "mimetype": "text/x-python",
   "name": "python",
   "nbconvert_exporter": "python",
   "pygments_lexer": "ipython3",
   "version": "3.8.10"
  },
  "orig_nbformat": 4,
  "vscode": {
   "interpreter": {
    "hash": "916dbcbb3f70747c44a77c7bcd40155683ae19c65e1c03b4aa3499c5328201f1"
   }
  }
 },
 "nbformat": 4,
 "nbformat_minor": 2
}
